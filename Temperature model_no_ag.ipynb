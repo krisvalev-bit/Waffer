{
 "cells": [
  {
   "cell_type": "code",
   "execution_count": 1,
   "metadata": {},
   "outputs": [],
   "source": [
    "# %matplotlib notebook\n",
    "import numpy as np\n",
    "import random\n",
    "from scipy.integrate import solve_ivp\n",
    "import matplotlib.pyplot as plt\n",
    "from matplotlib.animation import FuncAnimation"
   ]
  },
  {
   "cell_type": "code",
   "execution_count": 12,
   "metadata": {},
   "outputs": [],
   "source": [
    "#Global constants\n",
    "DENSITY = 2.65 * 10**3\n",
    "\n",
    "DIAMETER = 0.3\n",
    "HEIGHT = 0.675*10**(-3)\n",
    "\n",
    "HEAT_CAPACITY = 712\n",
    "# HEAT_CAPACITY_AIR = 1000\n",
    "\n",
    "COND_COEFF = 148\n",
    "CONV_COEFF_AIR = 28\n",
    "T_AMBIENT = 295\n",
    "#Finite difference scheme\n",
    "Nx = 10\n",
    "Ny = 10\n",
    "DX = DIAMETER/(Nx)\n",
    "DY = DIAMETER/(Ny)\n",
    "#Time integration\n",
    "Total_time = 20"
   ]
  },
  {
   "cell_type": "code",
   "execution_count": 13,
   "metadata": {},
   "outputs": [],
   "source": [
    "#Define points that fall inside wafer\n",
    "def check_position_is_in_wafer(i,j):\n",
    "    radius = DIAMETER/2\n",
    "    distance_to_center = ((i - Nx//2)*DX)**2 + ((j - Ny//2)*DY)**2\n",
    "    if  distance_to_center < radius**2:\n",
    "        return True\n",
    "    else:\n",
    "        return False\n",
    "def list_positions_in_wafer():\n",
    "    positions_in_wafer = []\n",
    "    for i in range(Nx):\n",
    "        for j in range(Ny):\n",
    "            if check_position_is_in_wafer(i,j):\n",
    "                positions_in_wafer.append([i,j])\n",
    "    return positions_in_wafer\n",
    "\n",
    "POINTS_IN_WAFER = list_positions_in_wafer()"
   ]
  },
  {
   "cell_type": "code",
   "execution_count": 14,
   "metadata": {},
   "outputs": [
    {
     "data": {
      "image/png": "[encoded data removed]",
      "text/plain": [
       "<Figure size 600x600 with 1 Axes>"
      ]
     },
     "metadata": {},
     "output_type": "display_data"
    }
   ],
   "source": [
    "# Extract x and y coordinates for plotting\n",
    "x_coords, y_coords = zip(*POINTS_IN_WAFER)\n",
    "\n",
    "# Plotting the points\n",
    "plt.figure(figsize=(6, 6))\n",
    "plt.scatter(x_coords, y_coords, color='blue', s=5, label=\"Points in Wafer\")\n",
    "plt.gca().set_aspect('equal', adjustable='box')  # Ensure equal aspect ratio for proper circular shape\n",
    "plt.title(\"Visualization of Points in Wafer\")\n",
    "plt.xlabel(\"X (m)\")\n",
    "plt.ylabel(\"Y (m)\")\n",
    "plt.legend()\n",
    "plt.grid(alpha=0.3)\n",
    "plt.show()"
   ]
  },
  {
   "cell_type": "code",
   "execution_count": 15,
   "metadata": {},
   "outputs": [],
   "source": [
    "#BOUNDARY AND INITIAL CONDITIONS\n",
    "T_initial = np.zeros((Nx, Ny), dtype=np.float64)\n",
    "T_initial = T_initial + T_AMBIENT\n",
    "#Wafer at different temperature\n",
    "for point in POINTS_IN_WAFER:\n",
    "    T_initial[point[0], point[1]] += 0.8\n",
    "for i in range(15):\n",
    "    rnd_point = random.choice(POINTS_IN_WAFER)\n",
    "    T_initial[rnd_point[0], rnd_point[1]] += (-1)** i * 0.2\n",
    "#perturbations\n",
    "# T_initial[Nx//2 -5 : Nx//2 + 5, Ny//2 - 5:Ny//2 + 5] += 10"
   ]
  },
  {
   "cell_type": "code",
   "execution_count": 16,
   "metadata": {},
   "outputs": [],
   "source": [
    "def foward_difference(T, dx, i, j, axis, sign):\n",
    "    #material = 0 denotes silicon, material = 1 denotes air\n",
    "    #sign denotes whether the point that the temperature is compared to is before or after spatially wrt the current point\n",
    "    if sign == 1: #after\n",
    "        i_prime = i + 1\n",
    "        j_prime = j + 1\n",
    "    elif sign == -1: #before\n",
    "        i_prime = i - 1\n",
    "        j_prime = j - 1\n",
    "    if axis == 1:\n",
    "        if [i_prime, j] in POINTS_IN_WAFER:\n",
    "            return (T[i_prime, j] - T[i, j])/dx\n",
    "        else:\n",
    "        #simplify code by not making another line for convection on sides\n",
    "            return (T_AMBIENT - T[i,j]) * CONV_COEFF_AIR * 1/COND_COEFF\n",
    "    elif axis == 2:\n",
    "        if [i, j_prime] in POINTS_IN_WAFER:\n",
    "            return (T[i, j_prime] - T[i, j])/dx\n",
    "        else:\n",
    "            return (T_AMBIENT - T[i,j]) * CONV_COEFF_AIR * 1/COND_COEFF"
   ]
  },
  {
   "cell_type": "code",
   "execution_count": 17,
   "metadata": {},
   "outputs": [],
   "source": [
    "def pde_system(t, y):\n",
    "    T = np.zeros_like(T_initial, dtype=np.float64)\n",
    "    dTdt = np.zeros_like(T, dtype=np.float64)\n",
    "    q_up = np.zeros_like(T, dtype=np.float64)\n",
    "    q_down = np.zeros_like(T, dtype=np.float64)\n",
    "    q_right = np.zeros_like(T, dtype=np.float64)\n",
    "    q_left = np.zeros_like(T, dtype=np.float64)\n",
    "    q_top = np.zeros_like(T, dtype=np.float64)\n",
    "\n",
    "    for i in range(Ny):\n",
    "        T[:,i] = y[Ny * i: Ny * (i+1)]\n",
    "\n",
    "    for i in range(Nx):\n",
    "        for j in range(Ny):\n",
    "            if [i,j] in POINTS_IN_WAFER:\n",
    "                q_up[i,j] = COND_COEFF * DX * HEIGHT * foward_difference(T, DY, i, j, axis=2, sign = 1)\n",
    "                q_down[i,j] = COND_COEFF * DX * HEIGHT * foward_difference(T, DY, i  , j, axis=2, sign = -1)\n",
    "                q_right[i,j] = COND_COEFF * HEIGHT * DY * foward_difference(T, DX, i, j, axis=1, sign = 1)\n",
    "                q_left[i,j] = COND_COEFF * HEIGHT * DY * foward_difference(T, DX, i, j, axis=1, sign = -1)\n",
    "                q_top [i,j] = CONV_COEFF_AIR * DX * DY * (T_AMBIENT - T[i,j])\n",
    "\n",
    "                dTdt[i,j] = 1/(DENSITY * HEAT_CAPACITY * HEIGHT * DX * DY) * (q_up[i,j] + q_down[i,j] + q_right[i,j] + q_left[i,j] + q_top[i,j])\n",
    "            else:\n",
    "                dTdt[i,j] = 0\n",
    "\n",
    "    return dTdt.flatten()\n",
    "    # for i in range(Nx - 1):\n",
    "    #     #Boundary at the bottom\n",
    "    #     q_up[i,0] = COND_COEFF * DX * DY * foward_difference(T, DY, i, 0, axis=2)\n",
    "    #     q_down[i,0] = COND_COEFF * DX * DY * (T[i,0] - T_AMBIENT)/DY\n",
    "    #     q_right[i,0] = COND_COEFF * DX * DY * foward_difference(T, DX, i, 0, axis=1)\n",
    "    #     q_left[i,0] = COND_COEFF * DX * DY * backwards_difference(T, DX, i, 0, axis=1)\n",
    "    #     q_top [i,0] = CONV_COEFF * DX * DY * (T_AMBIENT - T[i,0])\n",
    "    #     dTdt[i,0] = 1/(DENSITY * HEAT_CAPACITY * DX * DY * HEIGHT) * ( q_up[i,0] + q_down[i,0] + q_right[i,0] + q_left[i,0] + q_top[i,0])\n",
    "    \n",
    "    #     #Boundary at the top\n",
    "    #     q_up[i,Ny - 1] = COND_COEFF * DX * DY * (T_AMBIENT - T[i,Ny - 1])/DY\n",
    "    #     q_down[i,Ny - 1] = COND_COEFF * DX * DY * backwards_difference(T, DY, i, Ny - 1, axis=2)\n",
    "    #     q_right[i,Ny - 1] = COND_COEFF * DX * DY * foward_difference(T, DX, i, Ny - 1, axis=1)\n",
    "    #     q_left[i,Ny - 1] = COND_COEFF * DX * DY * backwards_difference(T, DX, i, Ny - 1, axis=1)\n",
    "    #     q_top [i,Ny - 1] = CONV_COEFF * DX * DY * (T_AMBIENT - T[i,Ny - 1])        \n",
    "    #     dTdt[i,Ny - 1] = 1/(DENSITY * HEAT_CAPACITY * DX * DY * HEIGHT) * ( q_up[i,Ny - 1] + q_down[i,Ny - 1] + q_right[i,Ny - 1] + q_left[i,Ny - 1] + q_top[i,Ny - 1])\n",
    "        \n",
    "    #     #Boundary at the left (Assuming DX = DY)\n",
    "    #     q_up[0,i] = COND_COEFF * DX * DY * foward_difference(T, DY, 0, i, axis=2)\n",
    "    #     q_down[0,i] = COND_COEFF * DX * DY * backwards_difference(T, DY, 0, i, axis=2)\n",
    "    #     q_right[0,i] = COND_COEFF * DX * DY * foward_difference(T, DX, 0, i, axis=1)\n",
    "    #     q_left[0,i] = COND_COEFF * DX * DY * (T[0,i] - T_AMBIENT)/DX\n",
    "    #     q_top [0,i] = CONV_COEFF * DX * DY * (T_AMBIENT - T[0,i])\n",
    "\n",
    "\n",
    "    #     #Boundary at the right (Assuming DX = DY)  \n",
    "    #     q_up[Nx - 1,i] = COND_COEFF * DX * DY * foward_difference(T, DY, i, j, axis=2)\n",
    "    #     q_down[Nx - 1,i] = COND_COEFF * DX * DY * backwards_difference(T, DY, i, j, axis=2)\n",
    "    #     q_right[Nx - 1,i] = COND_COEFF * DX * DY * foward_difference(T, DX, i, j, axis=1)\n",
    "    #     q_left[Nx - 1,0] = COND_COEFF * DX * DY * backwards_difference(T, DX, i, j, axis=1)\n",
    "    #     q_top [Nx - 1,0] = CONV_COEFF * DX * DY * (T_AMBIENT - T[i,j])"
   ]
  },
  {
   "cell_type": "code",
   "execution_count": 18,
   "metadata": {},
   "outputs": [],
   "source": [
    "def rungeKutta(y0:float, tspan:tuple, delta_t:float, ode:callable):\n",
    "\n",
    "    t0, tend = tspan\n",
    "    n = int((tend - t0)/delta_t) \n",
    "\n",
    "    y = [y0]\n",
    "    t = [t0]\n",
    "\n",
    "    for i in range(1, n + 1):\n",
    "\n",
    "        k1 = delta_t * ode(t0, y[i-1])\n",
    "        k2 = delta_t * ode(t0 + 0.5 * delta_t, y[i-1] + 0.5 * k1)\n",
    "        k3 = delta_t * ode(t0 + 0.5 * delta_t, y[i-1] + 0.5 * k2)\n",
    "        k4 = delta_t * ode(t0 + delta_t, y[i-1] + k3)\n",
    " \n",
    "        # Update next value of y\n",
    "        y.append(y[i-1] + (1.0 / 6.0)*(k1 + 2 * k2 + 2 * k3 + k4))\n",
    " \n",
    "        # Update next value of x\n",
    "        t0 = t0 + delta_t\n",
    "        t.append(t0)\n",
    "\n",
    "    return t, y"
   ]
  },
  {
   "cell_type": "code",
   "execution_count": 23,
   "metadata": {},
   "outputs": [],
   "source": [
    "t0 = 0\n",
    "tf = Total_time\n",
    "y0 = T_initial.flatten()\n",
    "# t_eval = np.array([i*0.5 for i in range(0,tf*2)])\n",
    "# t_vals, y_vals = rungeKutta(y0, tspan=(t0,tf), delta_t =0.1, ode=pde_system)\n",
    "sol1 = solve_ivp(pde_system, t_span=(0,tf), y0=y0, method=\"BDF\")"
   ]
  },
  {
   "cell_type": "code",
   "execution_count": 31,
   "metadata": {},
   "outputs": [
    {
     "data": {
      "text/plain": [
       "array([   295.        ,    295.        ,    295.        ,    295.        ,\n",
       "          295.        ,    295.        ,    295.        ,    295.        ,\n",
       "          295.        ,    295.        ,    295.        ,    295.        ,\n",
       "          295.        ,   4211.46225223,  -9659.71245917,  14269.31371606,\n",
       "       -14887.23527697,  10383.18665498,    295.        ,    295.        ,\n",
       "          295.        ,    295.        ,    295.52788253,  -9005.44156599,\n",
       "        23635.28238804, -35189.98660262,  42499.18537309, -37413.98084468,\n",
       "        14926.43448806,    295.        ,    295.        ,  -3620.41164203,\n",
       "         9596.4960452 ,    295.52618005, -18890.36159822,  39453.43311184,\n",
       "       -52959.49220409,  55329.69786413, -37265.58938565,  10295.51795684,\n",
       "          295.        ,  10250.75647037, -23044.2356712 ,  19481.40710811,\n",
       "          295.52041122, -23765.61012506,  43148.56214994, -49586.78391892,\n",
       "        39183.09418228, -13492.66396492,    295.        , -13678.28124611,\n",
       "        35781.02258954, -38862.39665559,  24356.64402541,    295.51465785,\n",
       "       -19464.50267672,  29351.29476939, -24546.41430023,   9734.76281916,\n",
       "          295.        ,  15478.25477597, -41908.16033097,  53550.51996229,\n",
       "       -42557.53474338,  20055.5283774 ,    295.51277281,  -9470.14936191,\n",
       "        10484.60537194,  -3768.4738463 ,    295.        ,  -9792.17772663,\n",
       "        38004.99805237, -54738.67574536,  50177.8079357 , -28760.26931622,\n",
       "        10061.1776695 ,    295.51616181,  -2232.16617742,   1312.75129872,\n",
       "          295.        ,    295.        , -14335.42052803,  37856.60839756,\n",
       "       -38592.07174738,  25137.44088774,  -9893.57382723,   2823.2013131 ,\n",
       "          295.51769222,    295.        ,    295.        ,    295.        ,\n",
       "          295.        ,  -9704.50296214,  14083.68347422,  -9143.73770846,\n",
       "         4359.50457929,   -721.71870389,    295.        ,    295.        ])"
      ]
     },
     "execution_count": 31,
     "metadata": {},
     "output_type": "execute_result"
    }
   ],
   "source": [
    "sol1.y.transpose()[-1]"
   ]
  },
  {
   "cell_type": "code",
   "execution_count": null,
   "metadata": {},
   "outputs": [],
   "source": [
    "sp"
   ]
  },
  {
   "cell_type": "code",
   "execution_count": 28,
   "metadata": {},
   "outputs": [
    {
     "data": {
      "image/png": "[encoded data removed]",
      "text/plain": [
       "<Figure size 640x480 with 2 Axes>"
      ]
     },
     "metadata": {},
     "output_type": "display_data"
    },
    {
     "name": "stderr",
     "output_type": "stream",
     "text": [
      "MovieWriter ffmpeg unavailable; using Pillow instead.\n"
     ]
    }
   ],
   "source": [
    "t_steps = sol1.t\n",
    "values = sol1.y.transpose().reshape(len(t_steps), Nx, Ny)\n",
    "# time_steps = t_vals\n",
    "# values = [y_vals[i].reshape(Ny, Nx) for i in range(len(time_steps))]  # Reshape into (time_steps, Ny, Nx)\n",
    "\n",
    "# Create the figure and axis\n",
    "fig, ax = plt.subplots()\n",
    "cax = ax.pcolormesh(values[0], shading='auto', cmap='viridis')  # Initial heatmap\n",
    "\n",
    "# Add a colorbar to show the temperature scale\n",
    "cbar = fig.colorbar(cax)\n",
    "cbar.set_label('Temperature')\n",
    "\n",
    "# Set up the plot title and labels\n",
    "ax.set_title(\"Temperature Evolution Over Time\")\n",
    "ax.set_xlabel(\"X Grid Points\")\n",
    "ax.set_ylabel(\"Y Grid Points\")\n",
    "\n",
    "# Update function for the animation\n",
    "def update(frame):\n",
    "    cax.set_array(values[frame].flatten())  # Update the heatmap with the new time step\n",
    "    ax.set_title(f\"Temperature Evolution Over Time (Time step: {frame})\")\n",
    "    return cax,\n",
    "\n",
    "# Create the animation\n",
    "ani = FuncAnimation(fig, update, frames=range(len(t_steps)), blit=False, interval=100)\n",
    "\n",
    "# Display the animation\n",
    "plt.show()\n",
    "\n",
    "# Save the animation as a GIF (optional)\n",
    "ani.save('temperature_evolution_no_ag.gif', writer='ffmpeg', fps=len(t_steps)/2)"
   ]
  },
  {
   "cell_type": "code",
   "execution_count": null,
   "metadata": {},
   "outputs": [],
   "source": []
  },
  {
   "cell_type": "code",
   "execution_count": null,
   "metadata": {},
   "outputs": [],
   "source": []
  }
 ],
 "metadata": {
  "kernelspec": {
   "display_name": "Python 3",
   "language": "python",
   "name": "python3"
  },
  "language_info": {
   "codemirror_mode": {
    "name": "ipython",
    "version": 3
   },
   "file_extension": ".py",
   "mimetype": "text/x-python",
   "name": "python",
   "nbconvert_exporter": "python",
   "pygments_lexer": "ipython3",
   "version": "3.11.9"
  }
 },
 "nbformat": 4,
 "nbformat_minor": 2
}
