{
 "cells": [
  {
   "cell_type": "code",
   "id": "initial_id",
   "metadata": {
    "collapsed": true,
    "ExecuteTime": {
     "end_time": "2024-12-06T16:14:37.387531Z",
     "start_time": "2024-12-06T16:14:36.967709Z"
    }
   },
   "source": [
    "import numpy as np\n",
    "from scipy.integrate import solve_ivp\n",
    "import matplotlib.pyplot as plt\n",
    "from matplotlib.animation import FuncAnimation"
   ],
   "outputs": [],
   "execution_count": 4
  },
  {
   "metadata": {
    "ExecuteTime": {
     "end_time": "2024-12-06T16:14:40.875392Z",
     "start_time": "2024-12-06T16:14:40.872459Z"
    }
   },
   "cell_type": "code",
   "source": [
    "# Global Constants\n",
    "\n",
    "# Thermoelectric modules 1 to N\n",
    "rho_t = 1\n",
    "c_p_t = 1\n",
    "k_t = 1\n",
    "sigma_t = 1\n",
    "\n",
    "# Metal films properties 1 to 3\n",
    "rho_m = 1\n",
    "c_p_m = 1\n",
    "k_m = 1\n",
    "sigma_m = 1\n",
    "\n",
    "# Ceramic substrate properties 1 and 2\n",
    "rho_ce = 1\n",
    "c_p_ce = 1\n",
    "k_ce = 1\n",
    "\n",
    "alpha = 1 #Peltier effect constant for the boundary of the metal-thermoelectric module\n",
    "I =1\n",
    "A_t=1\n",
    "A_m=1\n",
    "A_ce = 1"
   ],
   "id": "d07957dc2ca06633",
   "outputs": [],
   "execution_count": 6
  },
  {
   "metadata": {
    "ExecuteTime": {
     "end_time": "2024-12-06T16:14:44.353943Z",
     "start_time": "2024-12-06T16:14:44.352080Z"
    }
   },
   "cell_type": "code",
   "source": [
    "# Finite Difference scheme\n",
    "z_max = 8.8       # Length of the module in mm\n",
    "N_z = 100         # Spatial steps\n",
    "N_t = 1000        # time steps\n",
    "DZ = z_max / N_z  # Spatial step size\n",
    "dt = 0.01         # Time step size\n"
   ],
   "id": "19effaf66b32aca7",
   "outputs": [],
   "execution_count": 7
  },
  {
   "metadata": {
    "ExecuteTime": {
     "end_time": "2024-12-06T16:43:15.080346Z",
     "start_time": "2024-12-06T16:43:15.076718Z"
    }
   },
   "cell_type": "code",
   "source": [
    "# Boundary and initial conditions\n",
    "T_t = np.zeros(N_z)\n",
    "T_m = np.zeros(N_z)\n",
    "T_ce = np.zeros(N_z)\n",
    "#print(T_t)\n",
    "# To heat sink and to wafer's air-gab"
   ],
   "id": "586ed4c56b66d6b5",
   "outputs": [],
   "execution_count": 12
  },
  {
   "metadata": {
    "ExecuteTime": {
     "end_time": "2024-12-06T16:42:42.190412Z",
     "start_time": "2024-12-06T16:42:42.188492Z"
    }
   },
   "cell_type": "code",
   "source": [
    "\n",
    "\n"
   ],
   "id": "86774b4bd68a1571",
   "outputs": [],
   "execution_count": 11
  },
  {
   "metadata": {},
   "cell_type": "code",
   "outputs": [],
   "execution_count": null,
   "source": "",
   "id": "85337ec8b2fb3cac"
  }
 ],
 "metadata": {
  "kernelspec": {
   "display_name": "Python 3",
   "language": "python",
   "name": "python3"
  },
  "language_info": {
   "codemirror_mode": {
    "name": "ipython",
    "version": 2
   },
   "file_extension": ".py",
   "mimetype": "text/x-python",
   "name": "python",
   "nbconvert_exporter": "python",
   "pygments_lexer": "ipython2",
   "version": "2.7.6"
  }
 },
 "nbformat": 4,
 "nbformat_minor": 5
}
