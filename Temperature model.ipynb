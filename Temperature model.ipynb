{
 "cells": [
  {
   "cell_type": "code",
   "execution_count": 2,
   "metadata": {},
   "outputs": [],
   "source": [
    "# %matplotlib notebook\n",
    "import numpy as np\n",
    "from scipy.integrate import solve_ivp\n",
    "import matplotlib.pyplot as plt\n",
    "from matplotlib.animation import FuncAnimation"
   ]
  },
  {
   "cell_type": "code",
   "execution_count": 7,
   "metadata": {},
   "outputs": [],
   "source": [
    "#Global constants\n",
    "DENSITY = 1\n",
    "HEIGHT = 1\n",
    "DIAMETER = 20\n",
    "HEAT_CAPACITY = 1\n",
    "COND_COEFF = 1\n",
    "CONV_COEFF = 1\n",
    "T_AMBIENT = 295\n",
    "#Finite difference scheme\n",
    "Nx = 50\n",
    "Ny = 50\n",
    "DX = DIAMETER/(Nx + 2)\n",
    "DY = DIAMETER/(Ny + 2)\n",
    "#Time integration\n",
    "Total_time = 20"
   ]
  },
  {
   "cell_type": "code",
   "execution_count": 4,
   "metadata": {},
   "outputs": [],
   "source": [
    "#BOUNDARY AND INITIAL CONDITIONS\n",
    "T_initial = np.zeros((Nx, Ny), dtype=np.float64)\n",
    "T_initial = T_initial + 290\n",
    "    #perturbations\n",
    "T_initial[Nx//2, Ny//2] += 10"
   ]
  },
  {
   "cell_type": "code",
   "execution_count": 5,
   "metadata": {},
   "outputs": [],
   "source": [
    "#Basic finite differences\n",
    "def foward_difference(T, dx, i, j, axis):\n",
    "    if (i == Nx - 1) or (j == Ny - 1):\n",
    "        return (T_AMBIENT - T[i, j])/dx\n",
    "    elif axis == 1:\n",
    "        return (T[i+1, j] - T[i, j])/dx\n",
    "    elif axis == 2:\n",
    "        return (T[i, j+1] - T[i, j])/dx\n",
    "    \n",
    "def backwards_difference(T, dx, i, j, axis):\n",
    "    if (i == 0) or (j == 0):\n",
    "        return (T[i,j] - T_AMBIENT)/dx\n",
    "    elif axis == 1:\n",
    "        return (T[i, j] - T[i-1, j])/dx\n",
    "    elif axis == 2:\n",
    "        return (T[i, j] - T[i, j-1])/dx"
   ]
  },
  {
   "cell_type": "code",
   "execution_count": 6,
   "metadata": {},
   "outputs": [],
   "source": [
    "def pde_system(t, y):\n",
    "    T = np.zeros_like(T_initial, dtype=np.float64)\n",
    "    dTdt = np.zeros_like(T, dtype=np.float64)\n",
    "    q_up = np.zeros_like(T, dtype=np.float64)\n",
    "    q_down = np.zeros_like(T, dtype=np.float64)\n",
    "    q_right = np.zeros_like(T, dtype=np.float64)\n",
    "    q_left = np.zeros_like(T, dtype=np.float64)\n",
    "    q_top = np.zeros_like(T, dtype=np.float64)\n",
    "\n",
    "    for i in range(Ny):\n",
    "        T[:,i] = y[Ny * i: Ny * (i+1)]\n",
    "\n",
    "    for i in range(Nx):\n",
    "        for j in range(Ny):\n",
    "            \n",
    "            q_up[i,j] = COND_COEFF * DX * HEIGHT * foward_difference(T, DY, i, j, axis=2)\n",
    "            q_down[i,j] = COND_COEFF * DX * HEIGHT * backwards_difference(T, DY, i, j, axis=2)\n",
    "            q_right[i,j] = COND_COEFF * HEIGHT * DY * foward_difference(T, DX, i, j, axis=1)\n",
    "            q_left[i,j] = COND_COEFF * HEIGHT * DY * backwards_difference(T, DX, i, j, axis=1)\n",
    "            q_top [i,j] = CONV_COEFF * DX * DY * (T_AMBIENT - T[i,j])\n",
    "\n",
    "            dTdt[i,j] = 1/(DENSITY * HEAT_CAPACITY * DX * DY * HEIGHT) * ( q_up[i,j] + q_down[i,j] + q_right[i,j] + q_left[i,j] + q_top[i,j])\n",
    "    \n",
    "    # for i in range(Nx - 1):\n",
    "    #     #Boundary at the bottom\n",
    "    #     q_up[i,0] = COND_COEFF * DX * DY * foward_difference(T, DY, i, 0, axis=2)\n",
    "    #     q_down[i,0] = COND_COEFF * DX * DY * (T[i,0] - T_AMBIENT)/DY\n",
    "    #     q_right[i,0] = COND_COEFF * DX * DY * foward_difference(T, DX, i, 0, axis=1)\n",
    "    #     q_left[i,0] = COND_COEFF * DX * DY * backwards_difference(T, DX, i, 0, axis=1)\n",
    "    #     q_top [i,0] = CONV_COEFF * DX * DY * (T_AMBIENT - T[i,0])\n",
    "    #     dTdt[i,0] = 1/(DENSITY * HEAT_CAPACITY * DX * DY * HEIGHT) * ( q_up[i,0] + q_down[i,0] + q_right[i,0] + q_left[i,0] + q_top[i,0])\n",
    "    \n",
    "    #     #Boundary at the top\n",
    "    #     q_up[i,Ny - 1] = COND_COEFF * DX * DY * (T_AMBIENT - T[i,Ny - 1])/DY\n",
    "    #     q_down[i,Ny - 1] = COND_COEFF * DX * DY * backwards_difference(T, DY, i, Ny - 1, axis=2)\n",
    "    #     q_right[i,Ny - 1] = COND_COEFF * DX * DY * foward_difference(T, DX, i, Ny - 1, axis=1)\n",
    "    #     q_left[i,Ny - 1] = COND_COEFF * DX * DY * backwards_difference(T, DX, i, Ny - 1, axis=1)\n",
    "    #     q_top [i,Ny - 1] = CONV_COEFF * DX * DY * (T_AMBIENT - T[i,Ny - 1])        \n",
    "    #     dTdt[i,Ny - 1] = 1/(DENSITY * HEAT_CAPACITY * DX * DY * HEIGHT) * ( q_up[i,Ny - 1] + q_down[i,Ny - 1] + q_right[i,Ny - 1] + q_left[i,Ny - 1] + q_top[i,Ny - 1])\n",
    "        \n",
    "    #     #Boundary at the left (Assuming DX = DY)\n",
    "    #     q_up[0,i] = COND_COEFF * DX * DY * foward_difference(T, DY, 0, i, axis=2)\n",
    "    #     q_down[0,i] = COND_COEFF * DX * DY * backwards_difference(T, DY, 0, i, axis=2)\n",
    "    #     q_right[0,i] = COND_COEFF * DX * DY * foward_difference(T, DX, 0, i, axis=1)\n",
    "    #     q_left[0,i] = COND_COEFF * DX * DY * (T[0,i] - T_AMBIENT)/DX\n",
    "    #     q_top [0,i] = CONV_COEFF * DX * DY * (T_AMBIENT - T[0,i])\n",
    "\n",
    "\n",
    "    #     #Boundary at the right (Assuming DX = DY)  \n",
    "    #     q_up[Nx - 1,i] = COND_COEFF * DX * DY * foward_difference(T, DY, i, j, axis=2)\n",
    "    #     q_down[Nx - 1,i] = COND_COEFF * DX * DY * backwards_difference(T, DY, i, j, axis=2)\n",
    "    #     q_right[Nx - 1,i] = COND_COEFF * DX * DY * foward_difference(T, DX, i, j, axis=1)\n",
    "    #     q_left[Nx - 1,0] = COND_COEFF * DX * DY * backwards_difference(T, DX, i, j, axis=1)\n",
    "    #     q_top [Nx - 1,0] = CONV_COEFF * DX * DY * (T_AMBIENT - T[i,j])\n",
    "    return dTdt.flatten()"
   ]
  },
  {
   "cell_type": "code",
   "execution_count": 8,
   "metadata": {},
   "outputs": [],
   "source": [
    "t0 = 0\n",
    "tf = Total_time\n",
    "y0 = T_initial.flatten()\n",
    "sol1 = solve_ivp(pde_system, t_span=(0,tf), y0=y0, method=\"RK45\")"
   ]
  },
  {
   "cell_type": "code",
   "execution_count": 9,
   "metadata": {},
   "outputs": [
    {
     "data": {
      "image/png": "[encoded data removed]",
      "text/plain": [
       "<Figure size 640x480 with 2 Axes>"
      ]
     },
     "metadata": {},
     "output_type": "display_data"
    },
    {
     "name": "stderr",
     "output_type": "stream",
     "text": [
      "MovieWriter ffmpeg unavailable; using Pillow instead.\n"
     ]
    }
   ],
   "source": [
    "time_steps = len(sol1.t)\n",
    "values = sol1.y.transpose()\n",
    "values = values.reshape(time_steps, Ny, Nx)  # Reshape into (time_steps, Ny, Nx)\n",
    "\n",
    "# Create the figure and axis\n",
    "fig, ax = plt.subplots()\n",
    "cax = ax.pcolormesh(values[0], shading='auto', cmap='viridis')  # Initial heatmap\n",
    "\n",
    "# Add a colorbar to show the temperature scale\n",
    "cbar = fig.colorbar(cax)\n",
    "cbar.set_label('Temperature')\n",
    "\n",
    "# Set up the plot title and labels\n",
    "ax.set_title(\"Temperature Evolution Over Time\")\n",
    "ax.set_xlabel(\"X Grid Points\")\n",
    "ax.set_ylabel(\"Y Grid Points\")\n",
    "\n",
    "# Update function for the animation\n",
    "def update(frame):\n",
    "    cax.set_array(values[frame].flatten())  # Update the heatmap with the new time step\n",
    "    ax.set_title(f\"Temperature Evolution Over Time (Time step: {frame})\")\n",
    "    return cax,\n",
    "\n",
    "# Create the animation\n",
    "ani = FuncAnimation(fig, update, frames=time_steps, blit=False, interval=100)\n",
    "\n",
    "# Display the animation\n",
    "plt.show()\n",
    "\n",
    "# Save the animation as a GIF (optional)\n",
    "ani.save('temperature_evolution.gif', writer='ffmpeg', fps=30)"
   ]
  },
  {
   "cell_type": "code",
   "execution_count": null,
   "metadata": {},
   "outputs": [],
   "source": []
  },
  {
   "cell_type": "code",
   "execution_count": null,
   "metadata": {},
   "outputs": [],
   "source": []
  }
 ],
 "metadata": {
  "kernelspec": {
   "display_name": "Python 3",
   "language": "python",
   "name": "python3"
  },
  "language_info": {
   "codemirror_mode": {
    "name": "ipython",
    "version": 3
   },
   "file_extension": ".py",
   "mimetype": "text/x-python",
   "name": "python",
   "nbconvert_exporter": "python",
   "pygments_lexer": "ipython3",
   "version": "3.11.9"
  }
 },
 "nbformat": 4,
 "nbformat_minor": 2
}
