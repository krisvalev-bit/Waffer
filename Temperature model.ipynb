{
 "cells": [
  {
   "cell_type": "code",
   "execution_count": 23,
   "metadata": {},
   "outputs": [],
   "source": [
    "# %matplotlib notebook\n",
    "import numpy as np\n",
    "from scipy.integrate import solve_ivp\n",
    "import matplotlib.pyplot as plt\n",
    "from matplotlib.animation import FuncAnimation"
   ]
  },
  {
   "cell_type": "code",
   "execution_count": 69,
   "metadata": {},
   "outputs": [],
   "source": [
    "#Global constants\n",
    "DENSITY = 2.65 * 10**3\n",
    "HEIGHT = 1\n",
    "DIAMETER = 0.3\n",
    "HEAT_CAPACITY = 1\n",
    "COND_COEFF = 139.4\n",
    "CONV_COEFF = 28\n",
    "T_AMBIENT = 295\n",
    "#Finite difference scheme\n",
    "Nx = 50\n",
    "Ny = 50\n",
    "DX = DIAMETER/(Nx + 2)\n",
    "DY = DIAMETER/(Ny + 2)\n",
    "#Time integration\n",
    "Total_time = 20"
   ]
  },
  {
   "cell_type": "code",
   "execution_count": 70,
   "metadata": {},
   "outputs": [],
   "source": [
    "#BOUNDARY AND INITIAL CONDITIONS\n",
    "T_initial = np.zeros((Nx, Ny), dtype=np.float64)\n",
    "T_initial = T_initial + 290\n",
    "    #perturbations\n",
    "T_initial[Nx//2 -5 : Nx//2 + 5, Ny//2 - 5:Ny//2 + 5] += 10"
   ]
  },
  {
   "cell_type": "code",
   "execution_count": 71,
   "metadata": {},
   "outputs": [],
   "source": [
    "#Basic finite differences\n",
    "def foward_difference(T, dx, i, j, axis, sign):\n",
    "    #sign denotes whether the point that the temperature is compared to is before or after the current point\n",
    "    if sign == 1: #after\n",
    "        i_prime = i + 1\n",
    "        j_prime = j + 1\n",
    "    elif sign == -1: #before\n",
    "        i_prime = i - 1\n",
    "        j_prime = j - 1\n",
    "    if (i == Nx - 1) or (j == Ny - 1) or (i == 0) or (j == 0):\n",
    "        return (T_AMBIENT - T[i, j])/dx\n",
    "    elif axis == 1:\n",
    "        return (T[i_prime, j] - T[i, j])/dx\n",
    "    elif axis == 2:\n",
    "        return (T[i, j_prime] - T[i, j])/dx\n",
    "    \n",
    "def backwards_difference(T, dx, i, j, axis):\n",
    "    if (i == 0) or (j == 0):\n",
    "        return (T[i,j] - T_AMBIENT)/dx\n",
    "    elif axis == 1:\n",
    "        return (T[i, j] - T[i-1, j])/dx\n",
    "    elif axis == 2:\n",
    "        return (T[i, j] - T[i, j-1])/dx\n"
   ]
  },
  {
   "cell_type": "code",
   "execution_count": 72,
   "metadata": {},
   "outputs": [],
   "source": [
    "def pde_system(t, y):\n",
    "    T = np.zeros_like(T_initial, dtype=np.float64)\n",
    "    dTdt = np.zeros_like(T, dtype=np.float64)\n",
    "    q_up = np.zeros_like(T, dtype=np.float64)\n",
    "    q_down = np.zeros_like(T, dtype=np.float64)\n",
    "    q_right = np.zeros_like(T, dtype=np.float64)\n",
    "    q_left = np.zeros_like(T, dtype=np.float64)\n",
    "    q_top = np.zeros_like(T, dtype=np.float64)\n",
    "\n",
    "    for i in range(Ny):\n",
    "        T[:,i] = y[Ny * i: Ny * (i+1)]\n",
    "\n",
    "    for i in range(Nx):\n",
    "        for j in range(Ny):\n",
    "            \n",
    "            q_up[i,j] = COND_COEFF * DX * HEIGHT * foward_difference(T, DY, i, j, axis=2, sign = 1)\n",
    "            q_down[i,j] = COND_COEFF * DX * HEIGHT * foward_difference(T, DY, i  , j, axis=2, sign = -1)\n",
    "            q_right[i,j] = COND_COEFF * HEIGHT * DY * foward_difference(T, DX, i, j, axis=1, sign = 1)\n",
    "            q_left[i,j] = COND_COEFF * HEIGHT * DY * foward_difference(T, DX, i, j, axis=1, sign = -1)\n",
    "            q_top [i,j] = CONV_COEFF * DX * DY * (T_AMBIENT - T[i,j])\n",
    "\n",
    "            dTdt[i,j] = 1/(DENSITY * HEAT_CAPACITY * DX * DY * HEIGHT) * ( q_up[i,j] + q_down[i,j] + q_right[i,j] + q_left[i,j] + q_top[i,j])\n",
    "    \n",
    "    # for i in range(Nx - 1):\n",
    "    #     #Boundary at the bottom\n",
    "    #     q_up[i,0] = COND_COEFF * DX * DY * foward_difference(T, DY, i, 0, axis=2)\n",
    "    #     q_down[i,0] = COND_COEFF * DX * DY * (T[i,0] - T_AMBIENT)/DY\n",
    "    #     q_right[i,0] = COND_COEFF * DX * DY * foward_difference(T, DX, i, 0, axis=1)\n",
    "    #     q_left[i,0] = COND_COEFF * DX * DY * backwards_difference(T, DX, i, 0, axis=1)\n",
    "    #     q_top [i,0] = CONV_COEFF * DX * DY * (T_AMBIENT - T[i,0])\n",
    "    #     dTdt[i,0] = 1/(DENSITY * HEAT_CAPACITY * DX * DY * HEIGHT) * ( q_up[i,0] + q_down[i,0] + q_right[i,0] + q_left[i,0] + q_top[i,0])\n",
    "    \n",
    "    #     #Boundary at the top\n",
    "    #     q_up[i,Ny - 1] = COND_COEFF * DX * DY * (T_AMBIENT - T[i,Ny - 1])/DY\n",
    "    #     q_down[i,Ny - 1] = COND_COEFF * DX * DY * backwards_difference(T, DY, i, Ny - 1, axis=2)\n",
    "    #     q_right[i,Ny - 1] = COND_COEFF * DX * DY * foward_difference(T, DX, i, Ny - 1, axis=1)\n",
    "    #     q_left[i,Ny - 1] = COND_COEFF * DX * DY * backwards_difference(T, DX, i, Ny - 1, axis=1)\n",
    "    #     q_top [i,Ny - 1] = CONV_COEFF * DX * DY * (T_AMBIENT - T[i,Ny - 1])        \n",
    "    #     dTdt[i,Ny - 1] = 1/(DENSITY * HEAT_CAPACITY * DX * DY * HEIGHT) * ( q_up[i,Ny - 1] + q_down[i,Ny - 1] + q_right[i,Ny - 1] + q_left[i,Ny - 1] + q_top[i,Ny - 1])\n",
    "        \n",
    "    #     #Boundary at the left (Assuming DX = DY)\n",
    "    #     q_up[0,i] = COND_COEFF * DX * DY * foward_difference(T, DY, 0, i, axis=2)\n",
    "    #     q_down[0,i] = COND_COEFF * DX * DY * backwards_difference(T, DY, 0, i, axis=2)\n",
    "    #     q_right[0,i] = COND_COEFF * DX * DY * foward_difference(T, DX, 0, i, axis=1)\n",
    "    #     q_left[0,i] = COND_COEFF * DX * DY * (T[0,i] - T_AMBIENT)/DX\n",
    "    #     q_top [0,i] = CONV_COEFF * DX * DY * (T_AMBIENT - T[0,i])\n",
    "\n",
    "\n",
    "    #     #Boundary at the right (Assuming DX = DY)  \n",
    "    #     q_up[Nx - 1,i] = COND_COEFF * DX * DY * foward_difference(T, DY, i, j, axis=2)\n",
    "    #     q_down[Nx - 1,i] = COND_COEFF * DX * DY * backwards_difference(T, DY, i, j, axis=2)\n",
    "    #     q_right[Nx - 1,i] = COND_COEFF * DX * DY * foward_difference(T, DX, i, j, axis=1)\n",
    "    #     q_left[Nx - 1,0] = COND_COEFF * DX * DY * backwards_difference(T, DX, i, j, axis=1)\n",
    "    #     q_top [Nx - 1,0] = CONV_COEFF * DX * DY * (T_AMBIENT - T[i,j])\n",
    "    return dTdt.flatten()"
   ]
  },
  {
   "cell_type": "code",
   "execution_count": 73,
   "metadata": {},
   "outputs": [],
   "source": [
    "t0 = 0\n",
    "tf = Total_time\n",
    "y0 = T_initial.flatten()\n",
    "sol1 = solve_ivp(pde_system, t_span=(0,tf), y0=y0, method=\"BDF\")"
   ]
  },
  {
   "cell_type": "code",
   "execution_count": 74,
   "metadata": {},
   "outputs": [
    {
     "data": {
      "image/png": "[encoded data removed]",
      "text/plain": [
       "<Figure size 640x480 with 2 Axes>"
      ]
     },
     "metadata": {},
     "output_type": "display_data"
    },
    {
     "name": "stderr",
     "output_type": "stream",
     "text": [
      "MovieWriter ffmpeg unavailable; using Pillow instead.\n"
     ]
    }
   ],
   "source": [
    "time_steps = len(sol1.t)\n",
    "values = sol1.y.transpose()\n",
    "values = values.reshape(time_steps, Ny, Nx)  # Reshape into (time_steps, Ny, Nx)\n",
    "\n",
    "# Create the figure and axis\n",
    "fig, ax = plt.subplots()\n",
    "cax = ax.pcolormesh(values[0], shading='auto', cmap='viridis')  # Initial heatmap\n",
    "\n",
    "# Add a colorbar to show the temperature scale\n",
    "cbar = fig.colorbar(cax)\n",
    "cbar.set_label('Temperature')\n",
    "\n",
    "# Set up the plot title and labels\n",
    "ax.set_title(\"Temperature Evolution Over Time\")\n",
    "ax.set_xlabel(\"X Grid Points\")\n",
    "ax.set_ylabel(\"Y Grid Points\")\n",
    "\n",
    "# Update function for the animation\n",
    "def update(frame):\n",
    "    cax.set_array(values[frame].flatten())  # Update the heatmap with the new time step\n",
    "    ax.set_title(f\"Temperature Evolution Over Time (Time step: {frame})\")\n",
    "    return cax,\n",
    "\n",
    "# Create the animation\n",
    "ani = FuncAnimation(fig, update, frames=time_steps, blit=False, interval=100)\n",
    "\n",
    "# Display the animation\n",
    "plt.show()\n",
    "\n",
    "# Save the animation as a GIF (optional)\n",
    "ani.save('temperature_evolution.gif', writer='ffmpeg', fps=30)"
   ]
  },
  {
   "cell_type": "code",
   "execution_count": 42,
   "metadata": {},
   "outputs": [
    {
     "data": {
      "text/plain": [
       "array([   295.        ,    295.        ,    295.        ,    295.        ,\n",
       "          295.        ,    295.        ,    295.        ,    295.        ,\n",
       "          295.        ,    295.        ,    295.        ,    294.8520726 ,\n",
       "         3796.56325664, -11787.5239888 ,  24561.26652344, -35483.23946978,\n",
       "        41523.43115423, -36350.50765918,  21927.09492902,    295.        ,\n",
       "          295.        ,  -3207.11909544,    294.47870016,  14122.26480305,\n",
       "       -35175.18020884,  57325.46133239, -68128.46723589,  62374.24921254,\n",
       "       -36721.28728451,    295.        ,    295.        ,  12376.77682358,\n",
       "       -13533.66853001,    294.05657487,  26847.76557797, -55198.3809255 ,\n",
       "        73564.78464028, -69190.99151531,  42587.20878804,    295.        ,\n",
       "          295.        , -23972.11567306,  35763.58748467, -26259.90992931,\n",
       "          293.78351932,  33116.98391472, -56256.42159692,  59315.03685054,\n",
       "       -37105.68359671,    295.        ,    295.        ,  36072.39182633,\n",
       "       -56737.05380969,  55786.24044901, -32529.41643504,    293.78599231,\n",
       "        27903.0391056 , -37156.76567514,  26175.7347555 ,    295.        ,\n",
       "          295.        , -40934.17686284,  68717.06857161, -72976.66767859,\n",
       "        56844.28520835, -27315.17505102,    294.06207534,  15172.56745581,\n",
       "       -12836.3024018 ,    295.        ,    295.        ,  36939.95461779,\n",
       "       -61785.28820654,  69779.59502727, -58726.62383885,  37745.18167864,\n",
       "       -14583.96088646,    294.48333486,   4159.3699009 ,    295.        ,\n",
       "          295.        , -21337.38949251,  37310.73480442, -41997.95258906,\n",
       "        37694.83974174, -25586.57842292,  13425.56148354,  -3569.92027027,\n",
       "          294.85367981,    295.        ,    295.        ,    295.        ,\n",
       "          295.        ,    295.        ,    295.        ,    295.        ,\n",
       "          295.        ,    295.        ,    295.        ,    295.        ])"
      ]
     },
     "execution_count": 42,
     "metadata": {},
     "output_type": "execute_result"
    }
   ],
   "source": [
    "sol1.y.transpose()[20]"
   ]
  },
  {
   "cell_type": "code",
   "execution_count": null,
   "metadata": {},
   "outputs": [],
   "source": []
  }
 ],
 "metadata": {
  "kernelspec": {
   "display_name": "Python 3",
   "language": "python",
   "name": "python3"
  },
  "language_info": {
   "codemirror_mode": {
    "name": "ipython",
    "version": 3
   },
   "file_extension": ".py",
   "mimetype": "text/x-python",
   "name": "python",
   "nbconvert_exporter": "python",
   "pygments_lexer": "ipython3",
   "version": "3.11.9"
  }
 },
 "nbformat": 4,
 "nbformat_minor": 2
}
